{
 "cells": [
  {
   "cell_type": "code",
   "execution_count": 18,
   "metadata": {},
   "outputs": [
    {
     "name": "stdout",
     "output_type": "stream",
     "text": [
      "Defaulting to user installation because normal site-packages is not writeable\n",
      "Requirement already satisfied: roboflow in /Users/sanjayravindran/Library/Python/3.9/lib/python/site-packages (1.1.29)\n",
      "Requirement already satisfied: chardet==4.0.0 in /Users/sanjayravindran/Library/Python/3.9/lib/python/site-packages (from roboflow) (4.0.0)\n",
      "Requirement already satisfied: opencv-python-headless==4.8.0.74 in /Users/sanjayravindran/Library/Python/3.9/lib/python/site-packages (from roboflow) (4.8.0.74)\n",
      "Requirement already satisfied: requests-toolbelt in /Users/sanjayravindran/Library/Python/3.9/lib/python/site-packages (from roboflow) (1.0.0)\n",
      "Requirement already satisfied: cycler==0.10.0 in /Users/sanjayravindran/Library/Python/3.9/lib/python/site-packages (from roboflow) (0.10.0)\n",
      "Requirement already satisfied: Pillow>=7.1.2 in /Users/sanjayravindran/Library/Python/3.9/lib/python/site-packages (from roboflow) (10.3.0)\n",
      "Requirement already satisfied: matplotlib in /Users/sanjayravindran/Library/Python/3.9/lib/python/site-packages (from roboflow) (3.8.4)\n",
      "Requirement already satisfied: urllib3>=1.26.6 in /Users/sanjayravindran/Library/Python/3.9/lib/python/site-packages (from roboflow) (2.2.1)\n",
      "Requirement already satisfied: requests in /Users/sanjayravindran/Library/Python/3.9/lib/python/site-packages (from roboflow) (2.31.0)\n",
      "Requirement already satisfied: PyYAML>=5.3.1 in /Users/sanjayravindran/Library/Python/3.9/lib/python/site-packages (from roboflow) (6.0.1)\n",
      "Requirement already satisfied: idna==2.10 in /Users/sanjayravindran/Library/Python/3.9/lib/python/site-packages (from roboflow) (2.10)\n",
      "Requirement already satisfied: python-dateutil in /Users/sanjayravindran/Library/Python/3.9/lib/python/site-packages (from roboflow) (2.9.0.post0)\n",
      "Requirement already satisfied: python-dotenv in /Users/sanjayravindran/Library/Python/3.9/lib/python/site-packages (from roboflow) (1.0.1)\n",
      "Requirement already satisfied: python-magic in /Users/sanjayravindran/Library/Python/3.9/lib/python/site-packages (from roboflow) (0.4.27)\n",
      "Requirement already satisfied: numpy>=1.18.5 in /Users/sanjayravindran/Library/Python/3.9/lib/python/site-packages (from roboflow) (2.0.0rc1)\n",
      "Requirement already satisfied: tqdm>=4.41.0 in /Users/sanjayravindran/Library/Python/3.9/lib/python/site-packages (from roboflow) (4.66.4)\n",
      "Requirement already satisfied: certifi==2023.7.22 in /Users/sanjayravindran/Library/Python/3.9/lib/python/site-packages (from roboflow) (2023.7.22)\n",
      "Requirement already satisfied: six in /Library/Developer/CommandLineTools/Library/Frameworks/Python3.framework/Versions/3.9/lib/python3.9/site-packages (from roboflow) (1.15.0)\n",
      "Requirement already satisfied: kiwisolver>=1.3.1 in /Users/sanjayravindran/Library/Python/3.9/lib/python/site-packages (from roboflow) (1.4.5)\n",
      "Requirement already satisfied: contourpy>=1.0.1 in /Users/sanjayravindran/Library/Python/3.9/lib/python/site-packages (from matplotlib->roboflow) (1.2.1)\n",
      "Requirement already satisfied: packaging>=20.0 in /Users/sanjayravindran/Library/Python/3.9/lib/python/site-packages (from matplotlib->roboflow) (24.0)\n",
      "Requirement already satisfied: importlib-resources>=3.2.0 in /Users/sanjayravindran/Library/Python/3.9/lib/python/site-packages (from matplotlib->roboflow) (6.4.0)\n",
      "Requirement already satisfied: pyparsing>=2.3.1 in /Users/sanjayravindran/Library/Python/3.9/lib/python/site-packages (from matplotlib->roboflow) (3.1.2)\n",
      "Requirement already satisfied: fonttools>=4.22.0 in /Users/sanjayravindran/Library/Python/3.9/lib/python/site-packages (from matplotlib->roboflow) (4.51.0)\n",
      "Requirement already satisfied: zipp>=3.1.0 in /Users/sanjayravindran/Library/Python/3.9/lib/python/site-packages (from importlib-resources>=3.2.0->matplotlib->roboflow) (3.18.1)\n",
      "Requirement already satisfied: charset-normalizer<4,>=2 in /Users/sanjayravindran/Library/Python/3.9/lib/python/site-packages (from requests->roboflow) (3.3.2)\n",
      "\u001b[33mWARNING: You are using pip version 21.2.4; however, version 24.0 is available.\n",
      "You should consider upgrading via the '/Library/Developer/CommandLineTools/usr/bin/python3 -m pip install --upgrade pip' command.\u001b[0m\n",
      "Note: you may need to restart the kernel to use updated packages.\n"
     ]
    }
   ],
   "source": [
    "pip install roboflow\n"
   ]
  },
  {
   "cell_type": "code",
   "execution_count": 19,
   "metadata": {},
   "outputs": [
    {
     "name": "stdout",
     "output_type": "stream",
     "text": [
      "Defaulting to user installation because normal site-packages is not writeable\n",
      "Requirement already satisfied: ultralytics in /Users/sanjayravindran/Library/Python/3.9/lib/python/site-packages (8.2.16)\n",
      "Requirement already satisfied: opencv-python>=4.6.0 in /Users/sanjayravindran/Library/Python/3.9/lib/python/site-packages (from ultralytics) (4.9.0.80)\n",
      "Requirement already satisfied: pillow>=7.1.2 in /Users/sanjayravindran/Library/Python/3.9/lib/python/site-packages (from ultralytics) (10.3.0)\n",
      "Requirement already satisfied: psutil in /Users/sanjayravindran/Library/Python/3.9/lib/python/site-packages (from ultralytics) (5.9.8)\n",
      "Requirement already satisfied: py-cpuinfo in /Users/sanjayravindran/Library/Python/3.9/lib/python/site-packages (from ultralytics) (9.0.0)\n",
      "Requirement already satisfied: torchvision>=0.9.0 in /Users/sanjayravindran/Library/Python/3.9/lib/python/site-packages (from ultralytics) (0.19.0.dev20240403)\n",
      "Requirement already satisfied: tqdm>=4.64.0 in /Users/sanjayravindran/Library/Python/3.9/lib/python/site-packages (from ultralytics) (4.66.4)\n",
      "Requirement already satisfied: seaborn>=0.11.0 in /Users/sanjayravindran/Library/Python/3.9/lib/python/site-packages (from ultralytics) (0.13.2)\n",
      "Requirement already satisfied: requests>=2.23.0 in /Users/sanjayravindran/Library/Python/3.9/lib/python/site-packages (from ultralytics) (2.31.0)\n",
      "Requirement already satisfied: pandas>=1.1.4 in /Users/sanjayravindran/Library/Python/3.9/lib/python/site-packages (from ultralytics) (2.2.2)\n",
      "Requirement already satisfied: matplotlib>=3.3.0 in /Users/sanjayravindran/Library/Python/3.9/lib/python/site-packages (from ultralytics) (3.8.4)\n",
      "Requirement already satisfied: thop>=0.1.1 in /Users/sanjayravindran/Library/Python/3.9/lib/python/site-packages (from ultralytics) (0.1.1.post2209072238)\n",
      "Requirement already satisfied: torch>=1.8.0 in /Users/sanjayravindran/Library/Python/3.9/lib/python/site-packages (from ultralytics) (2.4.0.dev20240401)\n",
      "Requirement already satisfied: pyyaml>=5.3.1 in /Users/sanjayravindran/Library/Python/3.9/lib/python/site-packages (from ultralytics) (6.0.1)\n",
      "Requirement already satisfied: scipy>=1.4.1 in /Users/sanjayravindran/Library/Python/3.9/lib/python/site-packages (from ultralytics) (1.13.0)\n",
      "Requirement already satisfied: numpy>=1.21 in /Users/sanjayravindran/Library/Python/3.9/lib/python/site-packages (from matplotlib>=3.3.0->ultralytics) (2.0.0rc1)\n",
      "Requirement already satisfied: pyparsing>=2.3.1 in /Users/sanjayravindran/Library/Python/3.9/lib/python/site-packages (from matplotlib>=3.3.0->ultralytics) (3.1.2)\n",
      "Requirement already satisfied: fonttools>=4.22.0 in /Users/sanjayravindran/Library/Python/3.9/lib/python/site-packages (from matplotlib>=3.3.0->ultralytics) (4.51.0)\n",
      "Requirement already satisfied: python-dateutil>=2.7 in /Users/sanjayravindran/Library/Python/3.9/lib/python/site-packages (from matplotlib>=3.3.0->ultralytics) (2.9.0.post0)\n",
      "Requirement already satisfied: contourpy>=1.0.1 in /Users/sanjayravindran/Library/Python/3.9/lib/python/site-packages (from matplotlib>=3.3.0->ultralytics) (1.2.1)\n",
      "Requirement already satisfied: packaging>=20.0 in /Users/sanjayravindran/Library/Python/3.9/lib/python/site-packages (from matplotlib>=3.3.0->ultralytics) (24.0)\n",
      "Requirement already satisfied: importlib-resources>=3.2.0 in /Users/sanjayravindran/Library/Python/3.9/lib/python/site-packages (from matplotlib>=3.3.0->ultralytics) (6.4.0)\n",
      "Requirement already satisfied: cycler>=0.10 in /Users/sanjayravindran/Library/Python/3.9/lib/python/site-packages (from matplotlib>=3.3.0->ultralytics) (0.10.0)\n",
      "Requirement already satisfied: kiwisolver>=1.3.1 in /Users/sanjayravindran/Library/Python/3.9/lib/python/site-packages (from matplotlib>=3.3.0->ultralytics) (1.4.5)\n",
      "Requirement already satisfied: six in /Library/Developer/CommandLineTools/Library/Frameworks/Python3.framework/Versions/3.9/lib/python3.9/site-packages (from cycler>=0.10->matplotlib>=3.3.0->ultralytics) (1.15.0)\n",
      "Requirement already satisfied: zipp>=3.1.0 in /Users/sanjayravindran/Library/Python/3.9/lib/python/site-packages (from importlib-resources>=3.2.0->matplotlib>=3.3.0->ultralytics) (3.18.1)\n",
      "Requirement already satisfied: tzdata>=2022.7 in /Users/sanjayravindran/Library/Python/3.9/lib/python/site-packages (from pandas>=1.1.4->ultralytics) (2024.1)\n",
      "Requirement already satisfied: pytz>=2020.1 in /Users/sanjayravindran/Library/Python/3.9/lib/python/site-packages (from pandas>=1.1.4->ultralytics) (2024.1)\n",
      "Requirement already satisfied: urllib3<3,>=1.21.1 in /Users/sanjayravindran/Library/Python/3.9/lib/python/site-packages (from requests>=2.23.0->ultralytics) (2.2.1)\n",
      "Requirement already satisfied: certifi>=2017.4.17 in /Users/sanjayravindran/Library/Python/3.9/lib/python/site-packages (from requests>=2.23.0->ultralytics) (2023.7.22)\n",
      "Requirement already satisfied: charset-normalizer<4,>=2 in /Users/sanjayravindran/Library/Python/3.9/lib/python/site-packages (from requests>=2.23.0->ultralytics) (3.3.2)\n",
      "Requirement already satisfied: idna<4,>=2.5 in /Users/sanjayravindran/Library/Python/3.9/lib/python/site-packages (from requests>=2.23.0->ultralytics) (2.10)\n",
      "Requirement already satisfied: jinja2 in /Users/sanjayravindran/Library/Python/3.9/lib/python/site-packages (from torch>=1.8.0->ultralytics) (3.1.3)\n",
      "Requirement already satisfied: fsspec in /Users/sanjayravindran/Library/Python/3.9/lib/python/site-packages (from torch>=1.8.0->ultralytics) (2024.3.1)\n",
      "Requirement already satisfied: filelock in /Users/sanjayravindran/Library/Python/3.9/lib/python/site-packages (from torch>=1.8.0->ultralytics) (3.13.3)\n",
      "Requirement already satisfied: networkx in /Users/sanjayravindran/Library/Python/3.9/lib/python/site-packages (from torch>=1.8.0->ultralytics) (3.2.1)\n",
      "Requirement already satisfied: typing-extensions>=4.8.0 in /Users/sanjayravindran/Library/Python/3.9/lib/python/site-packages (from torch>=1.8.0->ultralytics) (4.11.0rc1)\n",
      "Requirement already satisfied: sympy in /Users/sanjayravindran/Library/Python/3.9/lib/python/site-packages (from torch>=1.8.0->ultralytics) (1.12.1rc1)\n",
      "Requirement already satisfied: MarkupSafe>=2.0 in /Users/sanjayravindran/Library/Python/3.9/lib/python/site-packages (from jinja2->torch>=1.8.0->ultralytics) (2.1.5)\n",
      "Requirement already satisfied: mpmath<1.4.0,>=1.1.0 in /Users/sanjayravindran/Library/Python/3.9/lib/python/site-packages (from sympy->torch>=1.8.0->ultralytics) (1.3.0)\n",
      "\u001b[33mWARNING: You are using pip version 21.2.4; however, version 24.0 is available.\n",
      "You should consider upgrading via the '/Library/Developer/CommandLineTools/usr/bin/python3 -m pip install --upgrade pip' command.\u001b[0m\n",
      "Note: you may need to restart the kernel to use updated packages.\n"
     ]
    }
   ],
   "source": [
    "pip install ultralytics"
   ]
  },
  {
   "cell_type": "code",
   "execution_count": 34,
   "metadata": {},
   "outputs": [
    {
     "name": "stdout",
     "output_type": "stream",
     "text": [
      "Defaulting to user installation because normal site-packages is not writeable\n",
      "Collecting numpy==1.21.0\n",
      "  Using cached numpy-1.21.0-cp39-cp39-macosx_11_0_arm64.whl (12.1 MB)\n",
      "Requirement already satisfied: ultralytics in /Users/sanjayravindran/Library/Python/3.9/lib/python/site-packages (8.2.16)\n",
      "Requirement already satisfied: roboflow in /Users/sanjayravindran/Library/Python/3.9/lib/python/site-packages (1.1.29)\n",
      "Requirement already satisfied: requests>=2.23.0 in /Users/sanjayravindran/Library/Python/3.9/lib/python/site-packages (from ultralytics) (2.31.0)\n",
      "Requirement already satisfied: psutil in /Users/sanjayravindran/Library/Python/3.9/lib/python/site-packages (from ultralytics) (5.9.8)\n",
      "Requirement already satisfied: scipy>=1.4.1 in /Users/sanjayravindran/Library/Python/3.9/lib/python/site-packages (from ultralytics) (1.13.0)\n",
      "Requirement already satisfied: torchvision>=0.9.0 in /Users/sanjayravindran/Library/Python/3.9/lib/python/site-packages (from ultralytics) (0.19.0.dev20240403)\n",
      "Requirement already satisfied: seaborn>=0.11.0 in /Users/sanjayravindran/Library/Python/3.9/lib/python/site-packages (from ultralytics) (0.13.2)\n",
      "Requirement already satisfied: opencv-python>=4.6.0 in /Users/sanjayravindran/Library/Python/3.9/lib/python/site-packages (from ultralytics) (4.9.0.80)\n",
      "Requirement already satisfied: thop>=0.1.1 in /Users/sanjayravindran/Library/Python/3.9/lib/python/site-packages (from ultralytics) (0.1.1.post2209072238)\n",
      "Requirement already satisfied: matplotlib>=3.3.0 in /Users/sanjayravindran/Library/Python/3.9/lib/python/site-packages (from ultralytics) (3.8.4)\n",
      "Requirement already satisfied: pillow>=7.1.2 in /Users/sanjayravindran/Library/Python/3.9/lib/python/site-packages (from ultralytics) (10.3.0)\n",
      "Requirement already satisfied: torch>=1.8.0 in /Users/sanjayravindran/Library/Python/3.9/lib/python/site-packages (from ultralytics) (2.4.0.dev20240401)\n",
      "Requirement already satisfied: tqdm>=4.64.0 in /Users/sanjayravindran/Library/Python/3.9/lib/python/site-packages (from ultralytics) (4.66.4)\n",
      "Requirement already satisfied: pyyaml>=5.3.1 in /Users/sanjayravindran/Library/Python/3.9/lib/python/site-packages (from ultralytics) (6.0.1)\n",
      "Requirement already satisfied: pandas>=1.1.4 in /Users/sanjayravindran/Library/Python/3.9/lib/python/site-packages (from ultralytics) (2.2.2)\n",
      "Requirement already satisfied: py-cpuinfo in /Users/sanjayravindran/Library/Python/3.9/lib/python/site-packages (from ultralytics) (9.0.0)\n",
      "Requirement already satisfied: idna==2.10 in /Users/sanjayravindran/Library/Python/3.9/lib/python/site-packages (from roboflow) (2.10)\n",
      "Requirement already satisfied: python-dotenv in /Users/sanjayravindran/Library/Python/3.9/lib/python/site-packages (from roboflow) (1.0.1)\n",
      "Requirement already satisfied: urllib3>=1.26.6 in /Users/sanjayravindran/Library/Python/3.9/lib/python/site-packages (from roboflow) (2.2.1)\n",
      "Requirement already satisfied: python-dateutil in /Users/sanjayravindran/Library/Python/3.9/lib/python/site-packages (from roboflow) (2.9.0.post0)\n",
      "Requirement already satisfied: python-magic in /Users/sanjayravindran/Library/Python/3.9/lib/python/site-packages (from roboflow) (0.4.27)\n",
      "Requirement already satisfied: cycler==0.10.0 in /Users/sanjayravindran/Library/Python/3.9/lib/python/site-packages (from roboflow) (0.10.0)\n",
      "Requirement already satisfied: certifi==2023.7.22 in /Users/sanjayravindran/Library/Python/3.9/lib/python/site-packages (from roboflow) (2023.7.22)\n",
      "Requirement already satisfied: six in /Library/Developer/CommandLineTools/Library/Frameworks/Python3.framework/Versions/3.9/lib/python3.9/site-packages (from roboflow) (1.15.0)\n",
      "Requirement already satisfied: kiwisolver>=1.3.1 in /Users/sanjayravindran/Library/Python/3.9/lib/python/site-packages (from roboflow) (1.4.5)\n",
      "Requirement already satisfied: chardet==4.0.0 in /Users/sanjayravindran/Library/Python/3.9/lib/python/site-packages (from roboflow) (4.0.0)\n",
      "Requirement already satisfied: opencv-python-headless==4.8.0.74 in /Users/sanjayravindran/Library/Python/3.9/lib/python/site-packages (from roboflow) (4.8.0.74)\n",
      "Requirement already satisfied: requests-toolbelt in /Users/sanjayravindran/Library/Python/3.9/lib/python/site-packages (from roboflow) (1.0.0)\n",
      "Requirement already satisfied: contourpy>=1.0.1 in /Users/sanjayravindran/Library/Python/3.9/lib/python/site-packages (from matplotlib>=3.3.0->ultralytics) (1.2.1)\n",
      "Requirement already satisfied: importlib-resources>=3.2.0 in /Users/sanjayravindran/Library/Python/3.9/lib/python/site-packages (from matplotlib>=3.3.0->ultralytics) (6.4.0)\n",
      "Requirement already satisfied: pyparsing>=2.3.1 in /Users/sanjayravindran/Library/Python/3.9/lib/python/site-packages (from matplotlib>=3.3.0->ultralytics) (3.1.2)\n",
      "Requirement already satisfied: packaging>=20.0 in /Users/sanjayravindran/Library/Python/3.9/lib/python/site-packages (from matplotlib>=3.3.0->ultralytics) (24.0)\n",
      "Requirement already satisfied: fonttools>=4.22.0 in /Users/sanjayravindran/Library/Python/3.9/lib/python/site-packages (from matplotlib>=3.3.0->ultralytics) (4.51.0)\n",
      "Requirement already satisfied: zipp>=3.1.0 in /Users/sanjayravindran/Library/Python/3.9/lib/python/site-packages (from importlib-resources>=3.2.0->matplotlib>=3.3.0->ultralytics) (3.18.1)\n",
      "Requirement already satisfied: pytz>=2020.1 in /Users/sanjayravindran/Library/Python/3.9/lib/python/site-packages (from pandas>=1.1.4->ultralytics) (2024.1)\n",
      "Collecting pandas>=1.1.4\n",
      "  Using cached pandas-2.2.1-cp39-cp39-macosx_11_0_arm64.whl (11.3 MB)\n",
      "  Using cached pandas-2.2.0-cp39-cp39-macosx_11_0_arm64.whl (11.8 MB)\n",
      "  Using cached pandas-2.1.4-cp39-cp39-macosx_11_0_arm64.whl (11.0 MB)\n",
      "  Using cached pandas-2.1.3-cp39-cp39-macosx_11_0_arm64.whl (11.0 MB)\n",
      "  Using cached pandas-2.1.2-cp39-cp39-macosx_11_0_arm64.whl (11.0 MB)\n",
      "  Using cached pandas-2.1.1-cp39-cp39-macosx_11_0_arm64.whl (10.9 MB)\n",
      "  Using cached pandas-2.1.0-cp39-cp39-macosx_11_0_arm64.whl (11.3 MB)\n",
      "  Using cached pandas-2.0.3-cp39-cp39-macosx_11_0_arm64.whl (10.9 MB)\n",
      "Requirement already satisfied: tzdata>=2022.1 in /Users/sanjayravindran/Library/Python/3.9/lib/python/site-packages (from pandas>=1.1.4->ultralytics) (2024.1)\n",
      "Requirement already satisfied: charset-normalizer<4,>=2 in /Users/sanjayravindran/Library/Python/3.9/lib/python/site-packages (from requests>=2.23.0->ultralytics) (3.3.2)\n",
      "Collecting scipy>=1.4.1\n",
      "  Using cached scipy-1.12.0-cp39-cp39-macosx_12_0_arm64.whl (31.4 MB)\n",
      "  Using cached scipy-1.11.4-cp39-cp39-macosx_12_0_arm64.whl (29.7 MB)\n",
      "  Using cached scipy-1.11.3-cp39-cp39-macosx_12_0_arm64.whl (29.7 MB)\n",
      "  Using cached scipy-1.11.2-cp39-cp39-macosx_12_0_arm64.whl (29.6 MB)\n",
      "  Using cached scipy-1.11.1-cp39-cp39-macosx_12_0_arm64.whl (29.6 MB)\n",
      "  Using cached scipy-1.10.1-cp39-cp39-macosx_12_0_arm64.whl (28.9 MB)\n",
      "Requirement already satisfied: networkx in /Users/sanjayravindran/Library/Python/3.9/lib/python/site-packages (from torch>=1.8.0->ultralytics) (3.2.1)\n",
      "Requirement already satisfied: jinja2 in /Users/sanjayravindran/Library/Python/3.9/lib/python/site-packages (from torch>=1.8.0->ultralytics) (3.1.3)\n",
      "Requirement already satisfied: filelock in /Users/sanjayravindran/Library/Python/3.9/lib/python/site-packages (from torch>=1.8.0->ultralytics) (3.13.3)\n",
      "Requirement already satisfied: typing-extensions>=4.8.0 in /Users/sanjayravindran/Library/Python/3.9/lib/python/site-packages (from torch>=1.8.0->ultralytics) (4.11.0rc1)\n",
      "Requirement already satisfied: fsspec in /Users/sanjayravindran/Library/Python/3.9/lib/python/site-packages (from torch>=1.8.0->ultralytics) (2024.3.1)\n",
      "Requirement already satisfied: sympy in /Users/sanjayravindran/Library/Python/3.9/lib/python/site-packages (from torch>=1.8.0->ultralytics) (1.12.1rc1)\n",
      "Requirement already satisfied: MarkupSafe>=2.0 in /Users/sanjayravindran/Library/Python/3.9/lib/python/site-packages (from jinja2->torch>=1.8.0->ultralytics) (2.1.5)\n",
      "Requirement already satisfied: mpmath<1.4.0,>=1.1.0 in /Users/sanjayravindran/Library/Python/3.9/lib/python/site-packages (from sympy->torch>=1.8.0->ultralytics) (1.3.0)\n",
      "Installing collected packages: numpy, pandas, scipy\n",
      "  Attempting uninstall: numpy\n",
      "    Found existing installation: numpy 2.0.0rc1\n",
      "    Uninstalling numpy-2.0.0rc1:\n",
      "      Successfully uninstalled numpy-2.0.0rc1\n",
      "  Attempting uninstall: pandas\n",
      "    Found existing installation: pandas 2.2.2\n",
      "    Uninstalling pandas-2.2.2:\n",
      "      Successfully uninstalled pandas-2.2.2\n",
      "  Attempting uninstall: scipy\n",
      "    Found existing installation: scipy 1.13.0\n",
      "    Uninstalling scipy-1.13.0:\n",
      "      Successfully uninstalled scipy-1.13.0\n",
      "Successfully installed numpy-1.21.0 pandas-2.0.3 scipy-1.10.1\n",
      "\u001b[33mWARNING: You are using pip version 21.2.4; however, version 24.0 is available.\n",
      "You should consider upgrading via the '/Library/Developer/CommandLineTools/usr/bin/python3 -m pip install --upgrade pip' command.\u001b[0m\n",
      "Note: you may need to restart the kernel to use updated packages.\n"
     ]
    }
   ],
   "source": [
    "pip install numpy==1.21.0 ultralytics roboflow"
   ]
  },
  {
   "cell_type": "code",
   "execution_count": 35,
   "metadata": {},
   "outputs": [
    {
     "name": "stderr",
     "output_type": "stream",
     "text": [
      "\n",
      "A module that was compiled using NumPy 1.x cannot be run in\n",
      "NumPy 2.0.0rc1 as it may crash. To support both 1.x and 2.x\n",
      "versions of NumPy, modules must be compiled with NumPy 2.0.\n",
      "Some module may need to rebuild instead e.g. with 'pybind11>=2.12'.\n",
      "\n",
      "If you are a user of the module, the easiest solution will be to\n",
      "downgrade to 'numpy<2' or try to upgrade the affected module.\n",
      "We expect that some modules will need time to support NumPy 2.\n",
      "\n",
      "Traceback (most recent call last):  File \"/Library/Developer/CommandLineTools/Library/Frameworks/Python3.framework/Versions/3.9/lib/python3.9/runpy.py\", line 197, in _run_module_as_main\n",
      "    return _run_code(code, main_globals, None,\n",
      "  File \"/Library/Developer/CommandLineTools/Library/Frameworks/Python3.framework/Versions/3.9/lib/python3.9/runpy.py\", line 87, in _run_code\n",
      "    exec(code, run_globals)\n",
      "  File \"/Users/sanjayravindran/Library/Python/3.9/lib/python/site-packages/ipykernel_launcher.py\", line 18, in <module>\n",
      "    app.launch_new_instance()\n",
      "  File \"/Users/sanjayravindran/Library/Python/3.9/lib/python/site-packages/traitlets/config/application.py\", line 1075, in launch_instance\n",
      "    app.start()\n",
      "  File \"/Users/sanjayravindran/Library/Python/3.9/lib/python/site-packages/ipykernel/kernelapp.py\", line 739, in start\n",
      "    self.io_loop.start()\n",
      "  File \"/Users/sanjayravindran/Library/Python/3.9/lib/python/site-packages/tornado/platform/asyncio.py\", line 205, in start\n",
      "    self.asyncio_loop.run_forever()\n",
      "  File \"/Library/Developer/CommandLineTools/Library/Frameworks/Python3.framework/Versions/3.9/lib/python3.9/asyncio/base_events.py\", line 596, in run_forever\n",
      "    self._run_once()\n",
      "  File \"/Library/Developer/CommandLineTools/Library/Frameworks/Python3.framework/Versions/3.9/lib/python3.9/asyncio/base_events.py\", line 1890, in _run_once\n",
      "    handle._run()\n",
      "  File \"/Library/Developer/CommandLineTools/Library/Frameworks/Python3.framework/Versions/3.9/lib/python3.9/asyncio/events.py\", line 80, in _run\n",
      "    self._context.run(self._callback, *self._args)\n",
      "  File \"/Users/sanjayravindran/Library/Python/3.9/lib/python/site-packages/ipykernel/kernelbase.py\", line 545, in dispatch_queue\n",
      "    await self.process_one()\n",
      "  File \"/Users/sanjayravindran/Library/Python/3.9/lib/python/site-packages/ipykernel/kernelbase.py\", line 534, in process_one\n",
      "    await dispatch(*args)\n",
      "  File \"/Users/sanjayravindran/Library/Python/3.9/lib/python/site-packages/ipykernel/kernelbase.py\", line 437, in dispatch_shell\n",
      "    await result\n",
      "  File \"/Users/sanjayravindran/Library/Python/3.9/lib/python/site-packages/ipykernel/ipkernel.py\", line 362, in execute_request\n",
      "    await super().execute_request(stream, ident, parent)\n",
      "  File \"/Users/sanjayravindran/Library/Python/3.9/lib/python/site-packages/ipykernel/kernelbase.py\", line 778, in execute_request\n",
      "    reply_content = await reply_content\n",
      "  File \"/Users/sanjayravindran/Library/Python/3.9/lib/python/site-packages/ipykernel/ipkernel.py\", line 449, in do_execute\n",
      "    res = shell.run_cell(\n",
      "  File \"/Users/sanjayravindran/Library/Python/3.9/lib/python/site-packages/ipykernel/zmqshell.py\", line 549, in run_cell\n",
      "    return super().run_cell(*args, **kwargs)\n",
      "  File \"/Users/sanjayravindran/Library/Python/3.9/lib/python/site-packages/IPython/core/interactiveshell.py\", line 3048, in run_cell\n",
      "    result = self._run_cell(\n",
      "  File \"/Users/sanjayravindran/Library/Python/3.9/lib/python/site-packages/IPython/core/interactiveshell.py\", line 3103, in _run_cell\n",
      "    result = runner(coro)\n",
      "  File \"/Users/sanjayravindran/Library/Python/3.9/lib/python/site-packages/IPython/core/async_helpers.py\", line 129, in _pseudo_sync_runner\n",
      "    coro.send(None)\n",
      "  File \"/Users/sanjayravindran/Library/Python/3.9/lib/python/site-packages/IPython/core/interactiveshell.py\", line 3308, in run_cell_async\n",
      "    has_raised = await self.run_ast_nodes(code_ast.body, cell_name,\n",
      "  File \"/Users/sanjayravindran/Library/Python/3.9/lib/python/site-packages/IPython/core/interactiveshell.py\", line 3490, in run_ast_nodes\n",
      "    if await self.run_code(code, result, async_=asy):\n",
      "  File \"/Users/sanjayravindran/Library/Python/3.9/lib/python/site-packages/IPython/core/interactiveshell.py\", line 3550, in run_code\n",
      "    exec(code_obj, self.user_global_ns, self.user_ns)\n",
      "  File \"/var/folders/87/sfz2lcnd6dvf93xwhpffp8c80000gn/T/ipykernel_4703/1381965096.py\", line 1, in <module>\n",
      "    from roboflow import Roboflow\n",
      "  File \"/Users/sanjayravindran/Library/Python/3.9/lib/python/site-packages/roboflow/__init__.py\", line 10, in <module>\n",
      "    from roboflow.adapters import rfapi\n",
      "  File \"/Users/sanjayravindran/Library/Python/3.9/lib/python/site-packages/roboflow/adapters/rfapi.py\", line 9, in <module>\n",
      "    from roboflow.util import image_utils\n",
      "  File \"/Users/sanjayravindran/Library/Python/3.9/lib/python/site-packages/roboflow/util/image_utils.py\", line 6, in <module>\n",
      "    import cv2\n"
     ]
    },
    {
     "ename": "AttributeError",
     "evalue": "_ARRAY_API not found",
     "output_type": "error",
     "traceback": [
      "\u001b[0;31m---------------------------------------------------------------------------\u001b[0m",
      "\u001b[0;31mAttributeError\u001b[0m                            Traceback (most recent call last)",
      "\u001b[0;31mAttributeError\u001b[0m: _ARRAY_API not found"
     ]
    },
    {
     "ename": "ImportError",
     "evalue": "numpy.core.multiarray failed to import",
     "output_type": "error",
     "traceback": [
      "\u001b[0;31m---------------------------------------------------------------------------\u001b[0m",
      "\u001b[0;31mImportError\u001b[0m                               Traceback (most recent call last)",
      "Cell \u001b[0;32mIn[35], line 1\u001b[0m\n\u001b[0;32m----> 1\u001b[0m \u001b[38;5;28;01mfrom\u001b[39;00m \u001b[38;5;21;01mroboflow\u001b[39;00m \u001b[38;5;28;01mimport\u001b[39;00m Roboflow\n",
      "File \u001b[0;32m~/Library/Python/3.9/lib/python/site-packages/roboflow/__init__.py:10\u001b[0m\n\u001b[1;32m      6\u001b[0m \u001b[38;5;28;01mfrom\u001b[39;00m \u001b[38;5;21;01murllib\u001b[39;00m\u001b[38;5;21;01m.\u001b[39;00m\u001b[38;5;21;01mparse\u001b[39;00m \u001b[38;5;28;01mimport\u001b[39;00m urlparse\n\u001b[1;32m      8\u001b[0m \u001b[38;5;28;01mimport\u001b[39;00m \u001b[38;5;21;01mrequests\u001b[39;00m\n\u001b[0;32m---> 10\u001b[0m \u001b[38;5;28;01mfrom\u001b[39;00m \u001b[38;5;21;01mroboflow\u001b[39;00m\u001b[38;5;21;01m.\u001b[39;00m\u001b[38;5;21;01madapters\u001b[39;00m \u001b[38;5;28;01mimport\u001b[39;00m rfapi\n\u001b[1;32m     11\u001b[0m \u001b[38;5;28;01mfrom\u001b[39;00m \u001b[38;5;21;01mroboflow\u001b[39;00m\u001b[38;5;21;01m.\u001b[39;00m\u001b[38;5;21;01mconfig\u001b[39;00m \u001b[38;5;28;01mimport\u001b[39;00m API_URL, APP_URL, DEMO_KEYS, load_roboflow_api_key\n\u001b[1;32m     12\u001b[0m \u001b[38;5;28;01mfrom\u001b[39;00m \u001b[38;5;21;01mroboflow\u001b[39;00m\u001b[38;5;21;01m.\u001b[39;00m\u001b[38;5;21;01mcore\u001b[39;00m\u001b[38;5;21;01m.\u001b[39;00m\u001b[38;5;21;01mproject\u001b[39;00m \u001b[38;5;28;01mimport\u001b[39;00m Project\n",
      "File \u001b[0;32m~/Library/Python/3.9/lib/python/site-packages/roboflow/adapters/rfapi.py:9\u001b[0m\n\u001b[1;32m      6\u001b[0m \u001b[38;5;28;01mfrom\u001b[39;00m \u001b[38;5;21;01mrequests_toolbelt\u001b[39;00m\u001b[38;5;21;01m.\u001b[39;00m\u001b[38;5;21;01mmultipart\u001b[39;00m\u001b[38;5;21;01m.\u001b[39;00m\u001b[38;5;21;01mencoder\u001b[39;00m \u001b[38;5;28;01mimport\u001b[39;00m MultipartEncoder\n\u001b[1;32m      8\u001b[0m \u001b[38;5;28;01mfrom\u001b[39;00m \u001b[38;5;21;01mroboflow\u001b[39;00m\u001b[38;5;21;01m.\u001b[39;00m\u001b[38;5;21;01mconfig\u001b[39;00m \u001b[38;5;28;01mimport\u001b[39;00m API_URL, DEFAULT_BATCH_NAME, DEFAULT_JOB_NAME\n\u001b[0;32m----> 9\u001b[0m \u001b[38;5;28;01mfrom\u001b[39;00m \u001b[38;5;21;01mroboflow\u001b[39;00m\u001b[38;5;21;01m.\u001b[39;00m\u001b[38;5;21;01mutil\u001b[39;00m \u001b[38;5;28;01mimport\u001b[39;00m image_utils\n\u001b[1;32m     12\u001b[0m \u001b[38;5;28;01mclass\u001b[39;00m \u001b[38;5;21;01mRoboflowError\u001b[39;00m(\u001b[38;5;167;01mException\u001b[39;00m):\n\u001b[1;32m     13\u001b[0m     \u001b[38;5;28;01mpass\u001b[39;00m\n",
      "File \u001b[0;32m~/Library/Python/3.9/lib/python/site-packages/roboflow/util/image_utils.py:6\u001b[0m\n\u001b[1;32m      3\u001b[0m \u001b[38;5;28;01mimport\u001b[39;00m \u001b[38;5;21;01mos\u001b[39;00m\n\u001b[1;32m      4\u001b[0m \u001b[38;5;28;01mimport\u001b[39;00m \u001b[38;5;21;01murllib\u001b[39;00m\n\u001b[0;32m----> 6\u001b[0m \u001b[38;5;28;01mimport\u001b[39;00m \u001b[38;5;21;01mcv2\u001b[39;00m\n\u001b[1;32m      7\u001b[0m \u001b[38;5;28;01mimport\u001b[39;00m \u001b[38;5;21;01mnumpy\u001b[39;00m \u001b[38;5;28;01mas\u001b[39;00m \u001b[38;5;21;01mnp\u001b[39;00m\n\u001b[1;32m      8\u001b[0m \u001b[38;5;28;01mimport\u001b[39;00m \u001b[38;5;21;01mrequests\u001b[39;00m\n",
      "\u001b[0;31mImportError\u001b[0m: numpy.core.multiarray failed to import"
     ]
    }
   ],
   "source": [
    "from roboflow import Roboflow"
   ]
  },
  {
   "cell_type": "code",
   "execution_count": 36,
   "metadata": {},
   "outputs": [
    {
     "ename": "NameError",
     "evalue": "name 'Roboflow' is not defined",
     "output_type": "error",
     "traceback": [
      "\u001b[0;31m---------------------------------------------------------------------------\u001b[0m",
      "\u001b[0;31mNameError\u001b[0m                                 Traceback (most recent call last)",
      "Cell \u001b[0;32mIn[36], line 1\u001b[0m\n\u001b[0;32m----> 1\u001b[0m rf \u001b[38;5;241m=\u001b[39m \u001b[43mRoboflow\u001b[49m(api_key\u001b[38;5;241m=\u001b[39m\u001b[38;5;124m\"\u001b[39m\u001b[38;5;124m7xpwptd2XeiBiDjyxGoS\u001b[39m\u001b[38;5;124m\"\u001b[39m)\n\u001b[1;32m      2\u001b[0m project \u001b[38;5;241m=\u001b[39m rf\u001b[38;5;241m.\u001b[39mworkspace(\u001b[38;5;124m\"\u001b[39m\u001b[38;5;124mfirsttime\u001b[39m\u001b[38;5;124m\"\u001b[39m)\u001b[38;5;241m.\u001b[39mproject(\u001b[38;5;124m\"\u001b[39m\u001b[38;5;124mbasketball-game-detections\u001b[39m\u001b[38;5;124m\"\u001b[39m)\n\u001b[1;32m      3\u001b[0m version \u001b[38;5;241m=\u001b[39m project\u001b[38;5;241m.\u001b[39mversion(\u001b[38;5;241m9\u001b[39m)\n",
      "\u001b[0;31mNameError\u001b[0m: name 'Roboflow' is not defined"
     ]
    }
   ],
   "source": [
    "\n",
    "rf = Roboflow(api_key=\"7xpwptd2XeiBiDjyxGoS\")\n",
    "project = rf.workspace(\"firsttime\").project(\"basketball-game-detections\")\n",
    "version = project.version(9)\n",
    "dataset = version.download(\"yolov5\")\n"
   ]
  }
 ],
 "metadata": {
  "kernelspec": {
   "display_name": "Python 3",
   "language": "python",
   "name": "python3"
  },
  "language_info": {
   "codemirror_mode": {
    "name": "ipython",
    "version": 3
   },
   "file_extension": ".py",
   "mimetype": "text/x-python",
   "name": "python",
   "nbconvert_exporter": "python",
   "pygments_lexer": "ipython3",
   "version": "3.9.6"
  }
 },
 "nbformat": 4,
 "nbformat_minor": 2
}
